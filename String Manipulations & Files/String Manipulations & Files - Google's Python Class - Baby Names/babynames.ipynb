{
 "cells": [
  {
   "cell_type": "markdown",
   "metadata": {},
   "source": [
    "Before you turn this problem in, make sure everything runs as expected. First, **restart the kernel** (in the menubar, select Kernel$\\rightarrow$Restart) and then **run all cells** (in the menubar, select Cell$\\rightarrow$Run All).\n",
    "\n",
    "Make sure you fill in any place that says `YOUR CODE HERE` or \"YOUR ANSWER HERE\", as well as your name and collaborators below:"
   ]
  },
  {
   "cell_type": "code",
   "execution_count": null,
   "metadata": {},
   "outputs": [],
   "source": [
    "NAME = \"\"\n",
    "COLLABORATORS = \"\""
   ]
  },
  {
   "cell_type": "markdown",
   "metadata": {},
   "source": [
    "---"
   ]
  },
  {
   "cell_type": "markdown",
   "metadata": {},
   "source": [
    "# Baby Names Python Exercise\n",
    "\n",
    "Source: https://developers.google.com/edu/python/"
   ]
  },
  {
   "cell_type": "markdown",
   "metadata": {},
   "source": [
    "## Intro\n",
    "The Social Security administration has this neat data by year of what names are most popular for babies born that year in the USA (see social security baby names).\n",
    "\n",
    "The files for this exercise are in the `babynames` directory. Add your code to this notebook. The files `baby1990.html baby1992.html ...` contain raw html, similar to what you get visiting the above social security site. Take a look at the html and think about how you might scrape the data out of it."
   ]
  },
  {
   "cell_type": "markdown",
   "metadata": {},
   "source": [
    "# Part A\n",
    "\n",
    "In this notebook, implement the `extract_names(filename)` function which takes the filename of a `baby1990.html` file and returns the data from the file as a single list -- the year string at the start of the list followed by the name-rank strings in alphabetical order. `['2006', 'Aaliyah 91', 'Abagail 895', 'Aaron 57', ...]`.\n",
    "\n",
    "Rather than treat the boy and girl names separately, we'll just lump them all together. **In some years, a name appears more than once in the html, but we'll just use one number per name. Optional: make the algorithm smart about this case and choose whichever number is smaller.**\n",
    "\n",
    "Build the program as a series of small milestones, getting each step to run/print something before trying the next step. This is the pattern used by experienced programmers -- build a series of incremental milestones, each with some output to check, rather than building the whole program in one huge step.\n",
    "\n",
    "Printing the data you have at the end of one milestone helps you think about how to re-structure that data for the next milestone. Python is well suited to this style of incremental development. For example, first get it to the point where it extracts and prints the year. Here are some suggested milestones:\n",
    "\n",
    "1. Extract all the text from the file and print it\n",
    "2. Find and extract the year and print it\n",
    "3. Extract the names and rank numbers and print them\n",
    "4. Get the names data into a dict and print it\n",
    "5. Build the `[year, 'name rank', ... ]` list and print it\n",
    "\n",
    "Earlier we have had functions just print to standard out. It's more re-usable to have the function *return* the extracted data, so then the caller has the choice to print it or do something else with it. (You can still print directly from inside your functions for your little experiments during development.)\n",
    "\n",
    "\n",
    "For parsing files, it's nice to include a copy of the target\n",
    "text for inspiration.\n",
    "\n",
    "Here's what the html looks like in the baby.html files:\n",
    "```\n",
    "...\n",
    "<h3 align=\"center\">Popularity in 1990</h3>\n",
    "....\n",
    "<tr align=\"right\"><td>1</td><td>Michael</td><td>Jessica</td>\n",
    "<tr align=\"right\"><td>2</td><td>Christopher</td><td>Ashley</td>\n",
    "<tr align=\"right\"><td>3</td><td>Matthew</td><td>Brittany</td>\n",
    "...\n",
    "```"
   ]
  },
  {
   "cell_type": "code",
   "execution_count": null,
   "metadata": {
    "collapsed": false,
    "deletable": false,
    "nbgrader": {
     "checksum": "34293d2c6364bc8769ae2bbe4e0163d1",
     "grade": false,
     "grade_id": "extract_names",
     "locked": false,
     "schema_version": 1,
     "solution": true
    }
   },
   "outputs": [],
   "source": [
    "def extract_names(filename):\n",
    "    \"\"\"\n",
    "    Given a file name for baby.html, returns a list starting with the year string\n",
    "    followed by the name-rank strings in alphabetical order.\n",
    "    ['2006', 'Aaliyah 91', Aaron 57', 'Abagail 895', ' ...]\n",
    "    \"\"\"\n",
    "    # YOUR CODE HERE\n",
    "    raise NotImplementedError()"
   ]
  },
  {
   "cell_type": "code",
   "execution_count": null,
   "metadata": {
    "collapsed": false,
    "deletable": false,
    "editable": false,
    "nbgrader": {
     "checksum": "380d3e2291db656a7a72c0374f006447",
     "grade": true,
     "grade_id": "test_extract_names",
     "locked": true,
     "points": 70,
     "schema_version": 1,
     "solution": false
    }
   },
   "outputs": [],
   "source": [
    "names2000 = extract_names('baby2000.html')\n",
    "\n",
    "len(names2000) == 1929\n",
    "\n",
    "assert names2000[0] == '2000'\n",
    "\n",
    "assert names2000[1] == 'Aaliyah 211'\n",
    "assert names2000[2] == 'Aaron 41'\n",
    "assert names2000[652] == 'Emily 1'\n",
    "assert names2000[-2] == 'Zoey 409'\n",
    "assert names2000[-1] == 'Zoie 728'\n"
   ]
  },
  {
   "cell_type": "markdown",
   "metadata": {},
   "source": [
    "## Part B\n",
    "\n",
    "Suppose instead of printing the text in the notebook, we want to write files containing the text. Implement the `save_names` that does so. For each input file 'foo.html', instead of printing in the notebook, write a new file 'foo.html.summary' that contains the summary text for that file."
   ]
  },
  {
   "cell_type": "code",
   "execution_count": null,
   "metadata": {
    "collapsed": false,
    "deletable": false,
    "nbgrader": {
     "checksum": "48fb88ca1fd7ae46bb210a41a4bd8f7b",
     "grade": false,
     "grade_id": "save_names",
     "locked": false,
     "schema_version": 1,
     "solution": true
    }
   },
   "outputs": [],
   "source": [
    "def save_names(filename):\n",
    "    names = extract_names(filename)\n",
    "\n",
    "    # YOUR CODE HERE\n",
    "    raise NotImplementedError()\n"
   ]
  },
  {
   "cell_type": "code",
   "execution_count": null,
   "metadata": {
    "collapsed": false,
    "deletable": false,
    "editable": false,
    "nbgrader": {
     "checksum": "8b664b6531796b5638b7ff60dd5ffbe7",
     "grade": true,
     "grade_id": "test_save_names",
     "locked": true,
     "points": 30,
     "schema_version": 1,
     "solution": false
    }
   },
   "outputs": [],
   "source": [
    "save_names('baby2000.html')\n"
   ]
  }
 ],
 "metadata": {
  "kernelspec": {
   "display_name": "Python 3",
   "language": "python",
   "name": "python3"
  },
  "language_info": {
   "codemirror_mode": {
    "name": "ipython",
    "version": 3
   },
   "file_extension": ".py",
   "mimetype": "text/x-python",
   "name": "python",
   "nbconvert_exporter": "python",
   "pygments_lexer": "ipython3",
   "version": "3.5.2"
  }
 },
 "nbformat": 4,
 "nbformat_minor": 2
}
